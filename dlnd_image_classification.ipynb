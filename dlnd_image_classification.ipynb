{
 "cells": [
  {
   "cell_type": "markdown",
   "metadata": {
    "collapsed": true
   },
   "source": [
    "# Image Classification\n",
    "In this project, you'll classify images from the [CIFAR-10 dataset](https://www.cs.toronto.edu/~kriz/cifar.html).  The dataset consists of airplanes, dogs, cats, and other objects. You'll preprocess the images, then train a convolutional neural network on all the samples. The images need to be normalized and the labels need to be one-hot encoded.  You'll get to apply what you learned and build a convolutional, max pooling, dropout, and fully connected layers.  At the end, you'll get to see your neural network's predictions on the sample images.\n",
    "## Get the Data\n",
    "Run the following cell to download the [CIFAR-10 dataset for python](https://www.cs.toronto.edu/~kriz/cifar-10-python.tar.gz)."
   ]
  },
  {
   "cell_type": "code",
   "execution_count": 2,
   "metadata": {},
   "outputs": [
    {
     "name": "stdout",
     "output_type": "stream",
     "text": [
      "All files found!\n"
     ]
    }
   ],
   "source": [
    "\"\"\"\n",
    "DON'T MODIFY ANYTHING IN THIS CELL THAT IS BELOW THIS LINE\n",
    "\"\"\"\n",
    "from urllib.request import urlretrieve\n",
    "from os.path import isfile, isdir\n",
    "from tqdm import tqdm\n",
    "import problem_unittests as tests\n",
    "import tarfile\n",
    "import tensorflow as tf\n",
    "cifar10_dataset_folder_path = 'cifar-10-batches-py'\n",
    "\n",
    "# Use Floyd's cifar-10 dataset if present\n",
    "floyd_cifar10_location = '/cifar/cifar-10-python.tar.gz'\n",
    "if isfile(floyd_cifar10_location):\n",
    "    tar_gz_path = floyd_cifar10_location\n",
    "else:\n",
    "    tar_gz_path = 'cifar-10-python.tar.gz'\n",
    "\n",
    "class DLProgress(tqdm):\n",
    "    last_block = 0\n",
    "\n",
    "    def hook(self, block_num=1, block_size=1, total_size=None):\n",
    "        self.total = total_size\n",
    "        self.update((block_num - self.last_block) * block_size)\n",
    "        self.last_block = block_num\n",
    "\n",
    "if not isfile(tar_gz_path):\n",
    "    with DLProgress(unit='B', unit_scale=True, miniters=1, desc='CIFAR-10 Dataset') as pbar:\n",
    "        urlretrieve(\n",
    "            'https://www.cs.toronto.edu/~kriz/cifar-10-python.tar.gz',\n",
    "            tar_gz_path,\n",
    "            pbar.hook)\n",
    "\n",
    "if not isdir(cifar10_dataset_folder_path):\n",
    "    with tarfile.open(tar_gz_path) as tar:\n",
    "        tar.extractall()\n",
    "        tar.close()\n",
    "\n",
    "\n",
    "tests.test_folder_path(cifar10_dataset_folder_path)"
   ]
  },
  {
   "cell_type": "markdown",
   "metadata": {},
   "source": [
    "## Explore the Data\n",
    "The dataset is broken into batches to prevent your machine from running out of memory.  The CIFAR-10 dataset consists of 5 batches, named `data_batch_1`, `data_batch_2`, etc.. Each batch contains the labels and images that are one of the following:\n",
    "* airplane\n",
    "* automobile\n",
    "* bird\n",
    "* cat\n",
    "* deer\n",
    "* dog\n",
    "* frog\n",
    "* horse\n",
    "* ship\n",
    "* truck\n",
    "\n",
    "Understanding a dataset is part of making predictions on the data.  Play around with the code cell below by changing the `batch_id` and `sample_id`. The `batch_id` is the id for a batch (1-5). The `sample_id` is the id for a image and label pair in the batch.\n",
    "\n",
    "Ask yourself \"What are all possible labels?\", \"What is the range of values for the image data?\", \"Are the labels in order or random?\".  Answers to questions like these will help you preprocess the data and end up with better predictions."
   ]
  },
  {
   "cell_type": "code",
   "execution_count": 3,
   "metadata": {},
   "outputs": [
    {
     "name": "stdout",
     "output_type": "stream",
     "text": [
      "\n",
      "Stats of batch 1:\n",
      "Samples: 10000\n",
      "Label Counts: {0: 1005, 1: 974, 2: 1032, 3: 1016, 4: 999, 5: 937, 6: 1030, 7: 1001, 8: 1025, 9: 981}\n",
      "First 20 Labels: [6, 9, 9, 4, 1, 1, 2, 7, 8, 3, 4, 7, 7, 2, 9, 9, 9, 3, 2, 6]\n",
      "\n",
      "Example of Image 5:\n",
      "Image - Min Value: 0 Max Value: 252\n",
      "Image - Shape: (32, 32, 3)\n",
      "Label - Label Id: 1 Name: automobile\n"
     ]
    },
    {
     "data": {
      "image/png": "[encoded data removed]",
      "text/plain": [
       "<matplotlib.figure.Figure at 0x7f755fb4a048>"
      ]
     },
     "metadata": {
      "image/png": {
       "height": 250,
       "width": 253
      }
     },
     "output_type": "display_data"
    }
   ],
   "source": [
    "%matplotlib inline\n",
    "%config InlineBackend.figure_format = 'retina'\n",
    "\n",
    "import helper\n",
    "import numpy as np\n",
    "\n",
    "# Explore the dataset\n",
    "batch_id = 1\n",
    "sample_id = 5\n",
    "helper.display_stats(cifar10_dataset_folder_path, batch_id, sample_id)"
   ]
  },
  {
   "cell_type": "markdown",
   "metadata": {},
   "source": [
    "## Implement Preprocess Functions\n",
    "### Normalize\n",
    "In the cell below, implement the `normalize` function to take in image data, `x`, and return it as a normalized Numpy array. The values should be in the range of 0 to 1, inclusive.  The return object should be the same shape as `x`."
   ]
  },
  {
   "cell_type": "code",
   "execution_count": 4,
   "metadata": {},
   "outputs": [
    {
     "name": "stdout",
     "output_type": "stream",
     "text": [
      "Tests Passed\n"
     ]
    }
   ],
   "source": [
    "def normalize(x):\n",
    "    \"\"\"\n",
    "    Normalize a list of sample image data in the range of 0 to 1\n",
    "    : x: List of image data.  The image shape is (32, 32, 3)\n",
    "    : return: Numpy array of normalize data\n",
    "    \"\"\"\n",
    "    # TODO: Implement Function\n",
    "    #x_array=np.array(x)\n",
    "    #shape=x_array.shape\n",
    "    #x_array=(x_array-np.min(x_array))/(np.max(x_array)-np.min(x_array))\n",
    "    #x_array.resize(shape)\n",
    "    a = 0\n",
    "    b = 255\n",
    "    \n",
    "    return (x-a)/(b-a)\n",
    "\n",
    "\n",
    "\"\"\"\n",
    "DON'T MODIFY ANYTHING IN THIS CELL THAT IS BELOW THIS LINE\n",
    "\"\"\"\n",
    "tests.test_normalize(normalize)"
   ]
  },
  {
   "cell_type": "markdown",
   "metadata": {},
   "source": [
    "### One-hot encode\n",
    "Just like the previous code cell, you'll be implementing a function for preprocessing.  This time, you'll implement the `one_hot_encode` function. The input, `x`, are a list of labels.  Implement the function to return the list of labels as One-Hot encoded Numpy array.  The possible values for labels are 0 to 9. The one-hot encoding function should return the same encoding for each value between each call to `one_hot_encode`.  Make sure to save the map of encodings outside the function.\n",
    "\n",
    "Hint: Don't reinvent the wheel."
   ]
  },
  {
   "cell_type": "code",
   "execution_count": 5,
   "metadata": {},
   "outputs": [
    {
     "name": "stdout",
     "output_type": "stream",
     "text": [
      "Tests Passed\n"
     ]
    }
   ],
   "source": [
    "def one_hot_encode(x):\n",
    "    \"\"\"\n",
    "    One hot encode a list of sample labels. Return a one-hot encoded vector for each label.\n",
    "    : x: List of sample Labels\n",
    "    : return: Numpy array of one-hot encoded labels\n",
    "    \"\"\"\n",
    "    # TODO: Implement Function\n",
    "    x_array=np.array(x)\n",
    "    x_onehot = tf.one_hot(x, 10, 1, 0)\n",
    "    sess = tf.InteractiveSession()\n",
    "    return x_onehot.eval()\n",
    "\n",
    "\n",
    "\"\"\"\n",
    "DON'T MODIFY ANYTHING IN THIS CELL THAT IS BELOW THIS LINE\n",
    "\"\"\"\n",
    "tests.test_one_hot_encode(one_hot_encode)"
   ]
  },
  {
   "cell_type": "markdown",
   "metadata": {},
   "source": [
    "### Randomize Data\n",
    "As you saw from exploring the data above, the order of the samples are randomized.  It doesn't hurt to randomize it again, but you don't need to for this dataset."
   ]
  },
  {
   "cell_type": "markdown",
   "metadata": {},
   "source": [
    "## Preprocess all the data and save it\n",
    "Running the code cell below will preprocess all the CIFAR-10 data and save it to file. The code below also uses 10% of the training data for validation."
   ]
  },
  {
   "cell_type": "code",
   "execution_count": 6,
   "metadata": {
    "collapsed": true
   },
   "outputs": [],
   "source": [
    "\"\"\"\n",
    "DON'T MODIFY ANYTHING IN THIS CELL\n",
    "\"\"\"\n",
    "# Preprocess Training, Validation, and Testing Data\n",
    "helper.preprocess_and_save_data(cifar10_dataset_folder_path, normalize, one_hot_encode)"
   ]
  },
  {
   "cell_type": "markdown",
   "metadata": {},
   "source": [
    "# Check Point\n",
    "This is your first checkpoint.  If you ever decide to come back to this notebook or have to restart the notebook, you can start from here.  The preprocessed data has been saved to disk."
   ]
  },
  {
   "cell_type": "code",
   "execution_count": 1,
   "metadata": {
    "collapsed": true
   },
   "outputs": [],
   "source": [
    "\"\"\"\n",
    "DON'T MODIFY ANYTHING IN THIS CELL\n",
    "\"\"\"\n",
    "import pickle\n",
    "import problem_unittests as tests\n",
    "import helper\n",
    "\n",
    "# Load the Preprocessed Validation data\n",
    "valid_features, valid_labels = pickle.load(open('preprocess_validation.p', mode='rb'))"
   ]
  },
  {
   "cell_type": "markdown",
   "metadata": {},
   "source": [
    "## Build the network\n",
    "For the neural network, you'll build each layer into a function.  Most of the code you've seen has been outside of functions. To test your code more thoroughly, we require that you put each layer in a function.  This allows us to give you better feedback and test for simple mistakes using our unittests before you submit your project.\n",
    "\n",
    ">**Note:** If you're finding it hard to dedicate enough time for this course each week, we've provided a small shortcut to this part of the project. In the next couple of problems, you'll have the option to use classes from the [TensorFlow Layers](https://www.tensorflow.org/api_docs/python/tf/layers) or [TensorFlow Layers (contrib)](https://www.tensorflow.org/api_guides/python/contrib.layers) packages to build each layer, except the layers you build in the \"Convolutional and Max Pooling Layer\" section.  TF Layers is similar to Keras's and TFLearn's abstraction to layers, so it's easy to pickup.\n",
    "\n",
    ">However, if you would like to get the most out of this course, try to solve all the problems _without_ using anything from the TF Layers packages. You **can** still use classes from other packages that happen to have the same name as ones you find in TF Layers! For example, instead of using the TF Layers version of the `conv2d` class, [tf.layers.conv2d](https://www.tensorflow.org/api_docs/python/tf/layers/conv2d), you would want to use the TF Neural Network version of `conv2d`, [tf.nn.conv2d](https://www.tensorflow.org/api_docs/python/tf/nn/conv2d). \n",
    "\n",
    "Let's begin!\n",
    "\n",
    "### Input\n",
    "The neural network needs to read the image data, one-hot encoded labels, and dropout keep probability. Implement the following functions\n",
    "* Implement `neural_net_image_input`\n",
    " * Return a [TF Placeholder](https://www.tensorflow.org/api_docs/python/tf/placeholder)\n",
    " * Set the shape using `image_shape` with batch size set to `None`.\n",
    " * Name the TensorFlow placeholder \"x\" using the TensorFlow `name` parameter in the [TF Placeholder](https://www.tensorflow.org/api_docs/python/tf/placeholder).\n",
    "* Implement `neural_net_label_input`\n",
    " * Return a [TF Placeholder](https://www.tensorflow.org/api_docs/python/tf/placeholder)\n",
    " * Set the shape using `n_classes` with batch size set to `None`.\n",
    " * Name the TensorFlow placeholder \"y\" using the TensorFlow `name` parameter in the [TF Placeholder](https://www.tensorflow.org/api_docs/python/tf/placeholder).\n",
    "* Implement `neural_net_keep_prob_input`\n",
    " * Return a [TF Placeholder](https://www.tensorflow.org/api_docs/python/tf/placeholder) for dropout keep probability.\n",
    " * Name the TensorFlow placeholder \"keep_prob\" using the TensorFlow `name` parameter in the [TF Placeholder](https://www.tensorflow.org/api_docs/python/tf/placeholder).\n",
    "\n",
    "These names will be used at the end of the project to load your saved model.\n",
    "\n",
    "Note: `None` for shapes in TensorFlow allow for a dynamic size."
   ]
  },
  {
   "cell_type": "code",
   "execution_count": 2,
   "metadata": {},
   "outputs": [
    {
     "name": "stdout",
     "output_type": "stream",
     "text": [
      "Image Input Tests Passed.\n",
      "Label Input Tests Passed.\n",
      "Keep Prob Tests Passed.\n"
     ]
    }
   ],
   "source": [
    "import tensorflow as tf\n",
    "\n",
    "def neural_net_image_input(image_shape):\n",
    "    \"\"\"\n",
    "    Return a Tensor for a batch of image input\n",
    "    : image_shape: Shape of the images\n",
    "    : return: Tensor for image input.\n",
    "    \"\"\"\n",
    "    # TODO: Implement Function\n",
    "    return tf.placeholder(\"float\", shape=[None, image_shape[0], image_shape[1], image_shape[2]], name='x')\n",
    "    \n",
    "\n",
    "\n",
    "def neural_net_label_input(n_classes):\n",
    "    \"\"\"\n",
    "    Return a Tensor for a batch of label input\n",
    "    : n_classes: Number of classes\n",
    "    : return: Tensor for label input.\n",
    "    \"\"\"\n",
    "    # TODO: Implement Function\n",
    "    return tf.placeholder(\"float\", shape=[None, n_classes], name='y')\n",
    "\n",
    "\n",
    "def neural_net_keep_prob_input():\n",
    "    \"\"\"\n",
    "    Return a Tensor for keep probability\n",
    "    : return: Tensor for keep probability.\n",
    "    \"\"\"\n",
    "    # TODO: Implement Function\n",
    "    return tf.placeholder(\"float\", name='keep_prob')\n",
    "\n",
    "\n",
    "\"\"\"\n",
    "DON'T MODIFY ANYTHING IN THIS CELL THAT IS BELOW THIS LINE\n",
    "\"\"\"\n",
    "tf.reset_default_graph()\n",
    "tests.test_nn_image_inputs(neural_net_image_input)\n",
    "tests.test_nn_label_inputs(neural_net_label_input)\n",
    "tests.test_nn_keep_prob_inputs(neural_net_keep_prob_input)"
   ]
  },
  {
   "cell_type": "markdown",
   "metadata": {},
   "source": [
    "### Convolution and Max Pooling Layer\n",
    "Convolution layers have a lot of success with images. For this code cell, you should implement the function `conv2d_maxpool` to apply convolution then max pooling:\n",
    "* Create the weight and bias using `conv_ksize`, `conv_num_outputs` and the shape of `x_tensor`.\n",
    "* Apply a convolution to `x_tensor` using weight and `conv_strides`.\n",
    " * We recommend you use same padding, but you're welcome to use any padding.\n",
    "* Add bias\n",
    "* Add a nonlinear activation to the convolution.\n",
    "* Apply Max Pooling using `pool_ksize` and `pool_strides`.\n",
    " * We recommend you use same padding, but you're welcome to use any padding.\n",
    "\n",
    "**Note:** You **can't** use [TensorFlow Layers](https://www.tensorflow.org/api_docs/python/tf/layers) or [TensorFlow Layers (contrib)](https://www.tensorflow.org/api_guides/python/contrib.layers) for **this** layer, but you can still use TensorFlow's [Neural Network](https://www.tensorflow.org/api_docs/python/tf/nn) package. You may still use the shortcut option for all the **other** layers."
   ]
  },
  {
   "cell_type": "code",
   "execution_count": 3,
   "metadata": {},
   "outputs": [
    {
     "name": "stdout",
     "output_type": "stream",
     "text": [
      "Tests Passed\n"
     ]
    }
   ],
   "source": [
    "def conv2d_maxpool(x_tensor, conv_num_outputs, conv_ksize, conv_strides, pool_ksize, pool_strides):\n",
    "    \"\"\"\n",
    "    Apply convolution then max pooling to x_tensor\n",
    "    :param x_tensor: TensorFlow Tensor\n",
    "    :param conv_num_outputs: Number of outputs for the convolutional layer\n",
    "    :param conv_ksize: kernal size 2-D Tuple for the convolutional layer\n",
    "    :param conv_strides: Stride 2-D Tuple for convolution\n",
    "    :param pool_ksize: kernal size 2-D Tuple for pool\n",
    "    :param pool_strides: Stride 2-D Tuple for pool\n",
    "    : return: A tensor that represents convolution and max pooling of x_tensor\n",
    "    \"\"\"\n",
    "    # TODO: Implement Function\n",
    "    dimension = x_tensor.get_shape().as_list()\n",
    "    shape = list(conv_ksize + (dimension[-1],) + (conv_num_outputs,))\n",
    "    weights = tf.Variable(tf.truncated_normal(shape,0,0.01))\n",
    "    bias = tf.Variable(tf.zeros(conv_num_outputs))\n",
    "    padding = 'SAME'\n",
    "    conv = tf.nn.conv2d(x_tensor, weights, list((1,)+conv_strides+(1,)), padding)\n",
    "    conv = tf.nn.bias_add(conv, bias)\n",
    "    conv = tf.nn.relu(conv)\n",
    "    conv = tf.nn.max_pool(conv, list((1,) + pool_ksize + (1,)), list((1,)+pool_strides+(1,)), padding)\n",
    "    \n",
    "    return conv\n",
    "\n",
    "\n",
    "\"\"\"\n",
    "DON'T MODIFY ANYTHING IN THIS CELL THAT IS BELOW THIS LINE\n",
    "\"\"\"\n",
    "tests.test_con_pool(conv2d_maxpool)"
   ]
  },
  {
   "cell_type": "markdown",
   "metadata": {},
   "source": [
    "### Flatten Layer\n",
    "Implement the `flatten` function to change the dimension of `x_tensor` from a 4-D tensor to a 2-D tensor.  The output should be the shape (*Batch Size*, *Flattened Image Size*). Shortcut option: you can use classes from the [TensorFlow Layers](https://www.tensorflow.org/api_docs/python/tf/layers) or [TensorFlow Layers (contrib)](https://www.tensorflow.org/api_guides/python/contrib.layers) packages for this layer. For more of a challenge, only use other TensorFlow packages."
   ]
  },
  {
   "cell_type": "code",
   "execution_count": 4,
   "metadata": {},
   "outputs": [
    {
     "name": "stdout",
     "output_type": "stream",
     "text": [
      "Tests Passed\n"
     ]
    }
   ],
   "source": [
    "def flatten(x_tensor):\n",
    "    \"\"\"\n",
    "    Flatten x_tensor to (Batch Size, Flattened Image Size)\n",
    "    : x_tensor: A tensor of size (Batch Size, ...), where ... are the image dimensions.\n",
    "    : return: A tensor of size (Batch Size, Flattened Image Size).\n",
    "    \"\"\"\n",
    "    # TODO: Implement Function\n",
    "    \n",
    "    return tf.contrib.layers.flatten(x_tensor)\n",
    "\n",
    "\n",
    "\"\"\"\n",
    "DON'T MODIFY ANYTHING IN THIS CELL THAT IS BELOW THIS LINE\n",
    "\"\"\"\n",
    "tests.test_flatten(flatten)"
   ]
  },
  {
   "cell_type": "markdown",
   "metadata": {},
   "source": [
    "### Fully-Connected Layer\n",
    "Implement the `fully_conn` function to apply a fully connected layer to `x_tensor` with the shape (*Batch Size*, *num_outputs*). Shortcut option: you can use classes from the [TensorFlow Layers](https://www.tensorflow.org/api_docs/python/tf/layers) or [TensorFlow Layers (contrib)](https://www.tensorflow.org/api_guides/python/contrib.layers) packages for this layer. For more of a challenge, only use other TensorFlow packages."
   ]
  },
  {
   "cell_type": "code",
   "execution_count": 5,
   "metadata": {},
   "outputs": [
    {
     "name": "stdout",
     "output_type": "stream",
     "text": [
      "Tests Passed\n"
     ]
    }
   ],
   "source": [
    "def fully_conn(x_tensor, num_outputs):\n",
    "    \"\"\"\n",
    "    Apply a fully connected layer to x_tensor using weight and bias\n",
    "    : x_tensor: A 2-D tensor where the first dimension is batch size.\n",
    "    : num_outputs: The number of output that the new tensor should be.\n",
    "    : return: A 2-D tensor where the second dimension is num_outputs.\n",
    "    \"\"\"\n",
    "    # TODO: Implement Function\n",
    "    return tf.contrib.layers.fully_connected(x_tensor, num_outputs)\n",
    "\n",
    "\n",
    "\"\"\"\n",
    "DON'T MODIFY ANYTHING IN THIS CELL THAT IS BELOW THIS LINE\n",
    "\"\"\"\n",
    "tests.test_fully_conn(fully_conn)"
   ]
  },
  {
   "cell_type": "markdown",
   "metadata": {},
   "source": [
    "### Output Layer\n",
    "Implement the `output` function to apply a fully connected layer to `x_tensor` with the shape (*Batch Size*, *num_outputs*). Shortcut option: you can use classes from the [TensorFlow Layers](https://www.tensorflow.org/api_docs/python/tf/layers) or [TensorFlow Layers (contrib)](https://www.tensorflow.org/api_guides/python/contrib.layers) packages for this layer. For more of a challenge, only use other TensorFlow packages.\n",
    "\n",
    "**Note:** Activation, softmax, or cross entropy should **not** be applied to this."
   ]
  },
  {
   "cell_type": "code",
   "execution_count": 6,
   "metadata": {},
   "outputs": [
    {
     "name": "stdout",
     "output_type": "stream",
     "text": [
      "Tests Passed\n"
     ]
    }
   ],
   "source": [
    "def output(x_tensor, num_outputs):\n",
    "    \"\"\"\n",
    "    Apply a output layer to x_tensor using weight and bias\n",
    "    : x_tensor: A 2-D tensor where the first dimension is batch size.\n",
    "    : num_outputs: The number of output that the new tensor should be.\n",
    "    : return: A 2-D tensor where the second dimension is num_outputs.\n",
    "    \"\"\"\n",
    "    # TODO: Implement Function\n",
    "    return tf.contrib.layers.fully_connected(x_tensor, num_outputs, activation_fn=None)\n",
    "\n",
    "\n",
    "\"\"\"\n",
    "DON'T MODIFY ANYTHING IN THIS CELL THAT IS BELOW THIS LINE\n",
    "\"\"\"\n",
    "tests.test_output(output)"
   ]
  },
  {
   "cell_type": "markdown",
   "metadata": {},
   "source": [
    "### Create Convolutional Model\n",
    "Implement the function `conv_net` to create a convolutional neural network model. The function takes in a batch of images, `x`, and outputs logits.  Use the layers you created above to create this model:\n",
    "\n",
    "* Apply 1, 2, or 3 Convolution and Max Pool layers\n",
    "* Apply a Flatten Layer\n",
    "* Apply 1, 2, or 3 Fully Connected Layers\n",
    "* Apply an Output Layer\n",
    "* Return the output\n",
    "* Apply [TensorFlow's Dropout](https://www.tensorflow.org/api_docs/python/tf/nn/dropout) to one or more layers in the model using `keep_prob`. "
   ]
  },
  {
   "cell_type": "code",
   "execution_count": 7,
   "metadata": {},
   "outputs": [
    {
     "name": "stdout",
     "output_type": "stream",
     "text": [
      "Neural Network Built!\n"
     ]
    }
   ],
   "source": [
    "def conv_net(x, keep_prob):\n",
    "    \"\"\"\n",
    "    Create a convolutional neural network model\n",
    "    : x: Placeholder tensor that holds image data.\n",
    "    : keep_prob: Placeholder tensor that hold dropout keep probability.\n",
    "    : return: Tensor that represents logits\n",
    "    \"\"\"\n",
    "    \"\"\"\n",
    "    Apply convolution then max pooling to x_tensor\n",
    "    :param x_tensor: TensorFlow Tensor\n",
    "    :param conv_num_outputs: Number of outputs for the convolutional layer\n",
    "    :param conv_ksize: kernal size 2-D Tuple for the convolutional layer\n",
    "    :param conv_strides: Stride 2-D Tuple for convolution\n",
    "    :param pool_ksize: kernal size 2-D Tuple for pool\n",
    "    :param pool_strides: Stride 2-D Tuple for pool\n",
    "    : return: A tensor that represents convolution and max pooling of x_tensor\n",
    "    \"\"\"\n",
    "    # TODO: Apply 1, 2, or 3 Convolution and Max Pool layers\n",
    "    #    Play around with different number of outputs, kernel size and stride\n",
    "    # Function Definition from Above:\n",
    "    conv_num_outputs = 18\n",
    "    conv_ksize = (4, 4)\n",
    "    conv_strides = (1, 1)\n",
    "    pool_ksize = (8, 8)\n",
    "    pool_strides = (1, 1)\n",
    "    \n",
    "    x_tensor = conv2d_maxpool(x, conv_num_outputs, conv_ksize, conv_strides, pool_ksize, pool_strides)\n",
    "    x_tensor = tf.nn.dropout(x_tensor, keep_prob)\n",
    "\n",
    "    # TODO: Apply a Flatten Layer\n",
    "    # Function Definition from Above:\n",
    "    x_tensor=flatten(x_tensor)\n",
    "    \n",
    "\n",
    "    # TODO: Apply 1, 2, or 3 Fully Connected Layers\n",
    "    #    Play around with different number of outputs\n",
    "    # Function Definition from Above:\n",
    "    num_outputs=384\n",
    "    x_tensor=fully_conn(x_tensor, num_outputs)\n",
    "    \n",
    "    x_tensor = tf.nn.dropout(x_tensor, keep_prob)\n",
    "    \n",
    "    # TODO: Apply an Output Layer\n",
    "    #    Set this to the number of classes\n",
    "    # Function Definition from Above:\n",
    "    num_outputs = 10\n",
    "    x_tensor=output(x_tensor, num_outputs)\n",
    "    \n",
    "    \n",
    "    # TODO: return output\n",
    "    return x_tensor\n",
    "\n",
    "\n",
    "\"\"\"\n",
    "DON'T MODIFY ANYTHING IN THIS CELL THAT IS BELOW THIS LINE\n",
    "\"\"\"\n",
    "\n",
    "##############################\n",
    "## Build the Neural Network ##\n",
    "##############################\n",
    "\n",
    "# Remove previous weights, bias, inputs, etc..\n",
    "tf.reset_default_graph()\n",
    "\n",
    "# Inputs\n",
    "x = neural_net_image_input((32, 32, 3))\n",
    "y = neural_net_label_input(10)\n",
    "keep_prob = neural_net_keep_prob_input()\n",
    "\n",
    "# Model\n",
    "logits = conv_net(x, keep_prob)\n",
    "\n",
    "# Name logits Tensor, so that is can be loaded from disk after training\n",
    "logits = tf.identity(logits, name='logits')\n",
    "\n",
    "# Loss and Optimizer\n",
    "cost = tf.reduce_mean(tf.nn.softmax_cross_entropy_with_logits(logits=logits, labels=y))\n",
    "optimizer = tf.train.AdamOptimizer().minimize(cost)\n",
    "\n",
    "# Accuracy\n",
    "correct_pred = tf.equal(tf.argmax(logits, 1), tf.argmax(y, 1))\n",
    "accuracy = tf.reduce_mean(tf.cast(correct_pred, tf.float32), name='accuracy')\n",
    "\n",
    "tests.test_conv_net(conv_net)"
   ]
  },
  {
   "cell_type": "markdown",
   "metadata": {},
   "source": [
    "## Train the Neural Network\n",
    "### Single Optimization\n",
    "Implement the function `train_neural_network` to do a single optimization.  The optimization should use `optimizer` to optimize in `session` with a `feed_dict` of the following:\n",
    "* `x` for image input\n",
    "* `y` for labels\n",
    "* `keep_prob` for keep probability for dropout\n",
    "\n",
    "This function will be called for each batch, so `tf.global_variables_initializer()` has already been called.\n",
    "\n",
    "Note: Nothing needs to be returned. This function is only optimizing the neural network."
   ]
  },
  {
   "cell_type": "code",
   "execution_count": 8,
   "metadata": {},
   "outputs": [
    {
     "name": "stdout",
     "output_type": "stream",
     "text": [
      "Tests Passed\n"
     ]
    }
   ],
   "source": [
    "def train_neural_network(session, optimizer, keep_probability, feature_batch, label_batch):\n",
    "    \"\"\"\n",
    "    Optimize the session on a batch of images and labels\n",
    "    : session: Current TensorFlow session\n",
    "    : optimizer: TensorFlow optimizer function\n",
    "    : keep_probability: keep probability\n",
    "    : feature_batch: Batch of Numpy image data\n",
    "    : label_batch: Batch of Numpy label data\n",
    "    \"\"\"\n",
    "    # TODO: Implement Function\n",
    "    session.run(optimizer, feed_dict={x:feature_batch, y:label_batch, keep_prob:keep_probability})\n",
    "    pass\n",
    "\n",
    "\n",
    "\"\"\"\n",
    "DON'T MODIFY ANYTHING IN THIS CELL THAT IS BELOW THIS LINE\n",
    "\"\"\"\n",
    "tests.test_train_nn(train_neural_network)"
   ]
  },
  {
   "cell_type": "markdown",
   "metadata": {},
   "source": [
    "### Show Stats\n",
    "Implement the function `print_stats` to print loss and validation accuracy.  Use the global variables `valid_features` and `valid_labels` to calculate validation accuracy.  Use a keep probability of `1.0` to calculate the loss and validation accuracy."
   ]
  },
  {
   "cell_type": "code",
   "execution_count": 9,
   "metadata": {
    "collapsed": true
   },
   "outputs": [],
   "source": [
    "def print_stats(session, feature_batch, label_batch, cost, accuracy):\n",
    "    \"\"\"\n",
    "    Print information about loss and validation accuracy\n",
    "    : session: Current TensorFlow session\n",
    "    : feature_batch: Batch of Numpy image data\n",
    "    : label_batch: Batch of Numpy label data\n",
    "    : cost: TensorFlow cost function\n",
    "    : accuracy: TensorFlow accuracy function\n",
    "    \"\"\"\n",
    "    # TODO: Implement Function\n",
    "    loss = session.run(cost, feed_dict={x:feature_batch, y:label_batch, keep_prob:1.0})\n",
    "    valid_acc = sess.run(accuracy, feed_dict={\n",
    "                x: valid_features,\n",
    "                y: valid_labels,\n",
    "                keep_prob: 1.})\n",
    "    print('Loss: {:>10.4f} Validation Accuracy: {:.6f}'.format(\n",
    "                loss,\n",
    "                valid_acc))"
   ]
  },
  {
   "cell_type": "markdown",
   "metadata": {},
   "source": [
    "### Hyperparameters\n",
    "Tune the following parameters:\n",
    "* Set `epochs` to the number of iterations until the network stops learning or start overfitting\n",
    "* Set `batch_size` to the highest number that your machine has memory for.  Most people set them to common sizes of memory:\n",
    " * 64\n",
    " * 128\n",
    " * 256\n",
    " * ...\n",
    "* Set `keep_probability` to the probability of keeping a node using dropout"
   ]
  },
  {
   "cell_type": "code",
   "execution_count": 10,
   "metadata": {
    "collapsed": true
   },
   "outputs": [],
   "source": [
    "# TODO: Tune Parameters\n",
    "epochs = 60\n",
    "batch_size = 512\n",
    "keep_probability = 0.3"
   ]
  },
  {
   "cell_type": "markdown",
   "metadata": {},
   "source": [
    "### Train on a Single CIFAR-10 Batch\n",
    "Instead of training the neural network on all the CIFAR-10 batches of data, let's use a single batch. This should save time while you iterate on the model to get a better accuracy.  Once the final validation accuracy is 50% or greater, run the model on all the data in the next section."
   ]
  },
  {
   "cell_type": "code",
   "execution_count": 11,
   "metadata": {},
   "outputs": [
    {
     "name": "stdout",
     "output_type": "stream",
     "text": [
      "Checking the Training on a Single Batch...\n",
      "Epoch  1, CIFAR-10 Batch 1:  Loss:     1.9470 Validation Accuracy: 0.360600\n",
      "Epoch  2, CIFAR-10 Batch 1:  Loss:     1.7372 Validation Accuracy: 0.421000\n",
      "Epoch  3, CIFAR-10 Batch 1:  Loss:     1.6039 Validation Accuracy: 0.449800\n",
      "Epoch  4, CIFAR-10 Batch 1:  Loss:     1.5146 Validation Accuracy: 0.460200\n",
      "Epoch  5, CIFAR-10 Batch 1:  Loss:     1.4557 Validation Accuracy: 0.478800\n",
      "Epoch  6, CIFAR-10 Batch 1:  Loss:     1.3908 Validation Accuracy: 0.494400\n",
      "Epoch  7, CIFAR-10 Batch 1:  Loss:     1.3235 Validation Accuracy: 0.514400\n",
      "Epoch  8, CIFAR-10 Batch 1:  Loss:     1.2922 Validation Accuracy: 0.524400\n",
      "Epoch  9, CIFAR-10 Batch 1:  Loss:     1.2632 Validation Accuracy: 0.531200\n",
      "Epoch 10, CIFAR-10 Batch 1:  Loss:     1.2190 Validation Accuracy: 0.543000\n",
      "Epoch 11, CIFAR-10 Batch 1:  Loss:     1.1882 Validation Accuracy: 0.548400\n",
      "Epoch 12, CIFAR-10 Batch 1:  Loss:     1.1635 Validation Accuracy: 0.556600\n",
      "Epoch 13, CIFAR-10 Batch 1:  Loss:     1.1360 Validation Accuracy: 0.555600\n",
      "Epoch 14, CIFAR-10 Batch 1:  Loss:     1.1186 Validation Accuracy: 0.555800\n",
      "Epoch 15, CIFAR-10 Batch 1:  Loss:     1.1024 Validation Accuracy: 0.565200\n",
      "Epoch 16, CIFAR-10 Batch 1:  Loss:     1.0730 Validation Accuracy: 0.567600\n",
      "Epoch 17, CIFAR-10 Batch 1:  Loss:     1.0676 Validation Accuracy: 0.567000\n",
      "Epoch 18, CIFAR-10 Batch 1:  Loss:     1.0318 Validation Accuracy: 0.571200\n",
      "Epoch 19, CIFAR-10 Batch 1:  Loss:     1.0317 Validation Accuracy: 0.578800\n",
      "Epoch 20, CIFAR-10 Batch 1:  Loss:     1.0077 Validation Accuracy: 0.575000\n",
      "Epoch 21, CIFAR-10 Batch 1:  Loss:     0.9843 Validation Accuracy: 0.578400\n",
      "Epoch 22, CIFAR-10 Batch 1:  Loss:     0.9622 Validation Accuracy: 0.579800\n",
      "Epoch 23, CIFAR-10 Batch 1:  Loss:     0.9491 Validation Accuracy: 0.579600\n",
      "Epoch 24, CIFAR-10 Batch 1:  Loss:     0.9391 Validation Accuracy: 0.585200\n",
      "Epoch 25, CIFAR-10 Batch 1:  Loss:     0.9376 Validation Accuracy: 0.585200\n",
      "Epoch 26, CIFAR-10 Batch 1:  Loss:     0.9203 Validation Accuracy: 0.581400\n",
      "Epoch 27, CIFAR-10 Batch 1:  Loss:     0.8949 Validation Accuracy: 0.581200\n",
      "Epoch 28, CIFAR-10 Batch 1:  Loss:     0.8982 Validation Accuracy: 0.589800\n",
      "Epoch 29, CIFAR-10 Batch 1:  Loss:     0.8898 Validation Accuracy: 0.578400\n",
      "Epoch 30, CIFAR-10 Batch 1:  Loss:     0.8618 Validation Accuracy: 0.593600\n",
      "Epoch 31, CIFAR-10 Batch 1:  Loss:     0.8658 Validation Accuracy: 0.588400\n",
      "Epoch 32, CIFAR-10 Batch 1:  Loss:     0.8684 Validation Accuracy: 0.577400\n",
      "Epoch 33, CIFAR-10 Batch 1:  Loss:     0.8206 Validation Accuracy: 0.595400\n",
      "Epoch 34, CIFAR-10 Batch 1:  Loss:     0.8413 Validation Accuracy: 0.571200\n",
      "Epoch 35, CIFAR-10 Batch 1:  Loss:     0.8007 Validation Accuracy: 0.585800\n",
      "Epoch 36, CIFAR-10 Batch 1:  Loss:     0.7662 Validation Accuracy: 0.596600\n",
      "Epoch 37, CIFAR-10 Batch 1:  Loss:     0.7749 Validation Accuracy: 0.596400\n",
      "Epoch 38, CIFAR-10 Batch 1:  Loss:     0.7435 Validation Accuracy: 0.598400\n",
      "Epoch 39, CIFAR-10 Batch 1:  Loss:     0.7431 Validation Accuracy: 0.593600\n",
      "Epoch 40, CIFAR-10 Batch 1:  Loss:     0.7524 Validation Accuracy: 0.599000\n",
      "Epoch 41, CIFAR-10 Batch 1:  Loss:     0.7238 Validation Accuracy: 0.603000\n",
      "Epoch 42, CIFAR-10 Batch 1:  Loss:     0.7231 Validation Accuracy: 0.596600\n",
      "Epoch 43, CIFAR-10 Batch 1:  Loss:     0.7241 Validation Accuracy: 0.605800\n",
      "Epoch 44, CIFAR-10 Batch 1:  Loss:     0.7070 Validation Accuracy: 0.604600\n",
      "Epoch 45, CIFAR-10 Batch 1:  Loss:     0.6890 Validation Accuracy: 0.611400\n",
      "Epoch 46, CIFAR-10 Batch 1:  Loss:     0.6904 Validation Accuracy: 0.603000\n",
      "Epoch 47, CIFAR-10 Batch 1:  Loss:     0.6639 Validation Accuracy: 0.610000\n",
      "Epoch 48, CIFAR-10 Batch 1:  Loss:     0.6733 Validation Accuracy: 0.612200\n",
      "Epoch 49, CIFAR-10 Batch 1:  Loss:     0.6681 Validation Accuracy: 0.607800\n",
      "Epoch 50, CIFAR-10 Batch 1:  Loss:     0.6498 Validation Accuracy: 0.608200\n",
      "Epoch 51, CIFAR-10 Batch 1:  Loss:     0.6402 Validation Accuracy: 0.612400\n",
      "Epoch 52, CIFAR-10 Batch 1:  Loss:     0.6515 Validation Accuracy: 0.607600\n",
      "Epoch 53, CIFAR-10 Batch 1:  Loss:     0.6403 Validation Accuracy: 0.614800\n",
      "Epoch 54, CIFAR-10 Batch 1:  Loss:     0.6187 Validation Accuracy: 0.610200\n",
      "Epoch 55, CIFAR-10 Batch 1:  Loss:     0.6390 Validation Accuracy: 0.601800\n",
      "Epoch 56, CIFAR-10 Batch 1:  Loss:     0.6049 Validation Accuracy: 0.610200\n",
      "Epoch 57, CIFAR-10 Batch 1:  Loss:     0.6036 Validation Accuracy: 0.619400\n",
      "Epoch 58, CIFAR-10 Batch 1:  Loss:     0.6028 Validation Accuracy: 0.611200\n",
      "Epoch 59, CIFAR-10 Batch 1:  Loss:     0.5662 Validation Accuracy: 0.618800\n",
      "Epoch 60, CIFAR-10 Batch 1:  Loss:     0.5789 Validation Accuracy: 0.613400\n"
     ]
    }
   ],
   "source": [
    "\"\"\"\n",
    "DON'T MODIFY ANYTHING IN THIS CELL\n",
    "\"\"\"\n",
    "print('Checking the Training on a Single Batch...')\n",
    "with tf.Session() as sess:\n",
    "    # Initializing the variables\n",
    "    sess.run(tf.global_variables_initializer())\n",
    "    \n",
    "    # Training cycle\n",
    "    for epoch in range(epochs):\n",
    "        batch_i = 1\n",
    "        for batch_features, batch_labels in helper.load_preprocess_training_batch(batch_i, batch_size):\n",
    "            train_neural_network(sess, optimizer, keep_probability, batch_features, batch_labels)\n",
    "        print('Epoch {:>2}, CIFAR-10 Batch {}:  '.format(epoch + 1, batch_i), end='')\n",
    "        print_stats(sess, batch_features, batch_labels, cost, accuracy)"
   ]
  },
  {
   "cell_type": "markdown",
   "metadata": {},
   "source": [
    "### Fully Train the Model\n",
    "Now that you got a good accuracy with a single CIFAR-10 batch, try it with all five batches."
   ]
  },
  {
   "cell_type": "code",
   "execution_count": 12,
   "metadata": {},
   "outputs": [
    {
     "name": "stdout",
     "output_type": "stream",
     "text": [
      "Training...\n",
      "Epoch  1, CIFAR-10 Batch 1:  Loss:     1.9802 Validation Accuracy: 0.319600\n",
      "Epoch  1, CIFAR-10 Batch 2:  Loss:     1.6922 Validation Accuracy: 0.406800\n",
      "Epoch  1, CIFAR-10 Batch 3:  Loss:     1.4934 Validation Accuracy: 0.429800\n",
      "Epoch  1, CIFAR-10 Batch 4:  Loss:     1.4717 Validation Accuracy: 0.460400\n",
      "Epoch  1, CIFAR-10 Batch 5:  Loss:     1.5013 Validation Accuracy: 0.477600\n",
      "Epoch  2, CIFAR-10 Batch 1:  Loss:     1.5110 Validation Accuracy: 0.486400\n",
      "Epoch  2, CIFAR-10 Batch 2:  Loss:     1.4017 Validation Accuracy: 0.498800\n",
      "Epoch  2, CIFAR-10 Batch 3:  Loss:     1.2992 Validation Accuracy: 0.510600\n",
      "Epoch  2, CIFAR-10 Batch 4:  Loss:     1.2892 Validation Accuracy: 0.524400\n",
      "Epoch  2, CIFAR-10 Batch 5:  Loss:     1.3528 Validation Accuracy: 0.519000\n",
      "Epoch  3, CIFAR-10 Batch 1:  Loss:     1.3786 Validation Accuracy: 0.522400\n",
      "Epoch  3, CIFAR-10 Batch 2:  Loss:     1.2850 Validation Accuracy: 0.524600\n",
      "Epoch  3, CIFAR-10 Batch 3:  Loss:     1.2223 Validation Accuracy: 0.541600\n",
      "Epoch  3, CIFAR-10 Batch 4:  Loss:     1.2059 Validation Accuracy: 0.554800\n",
      "Epoch  3, CIFAR-10 Batch 5:  Loss:     1.2557 Validation Accuracy: 0.549800\n",
      "Epoch  4, CIFAR-10 Batch 1:  Loss:     1.2947 Validation Accuracy: 0.560800\n",
      "Epoch  4, CIFAR-10 Batch 2:  Loss:     1.2244 Validation Accuracy: 0.548000\n",
      "Epoch  4, CIFAR-10 Batch 3:  Loss:     1.1832 Validation Accuracy: 0.558200\n",
      "Epoch  4, CIFAR-10 Batch 4:  Loss:     1.1334 Validation Accuracy: 0.574200\n",
      "Epoch  4, CIFAR-10 Batch 5:  Loss:     1.1908 Validation Accuracy: 0.564400\n",
      "Epoch  5, CIFAR-10 Batch 1:  Loss:     1.2675 Validation Accuracy: 0.575400\n",
      "Epoch  5, CIFAR-10 Batch 2:  Loss:     1.1664 Validation Accuracy: 0.575800\n",
      "Epoch  5, CIFAR-10 Batch 3:  Loss:     1.1221 Validation Accuracy: 0.578200\n",
      "Epoch  5, CIFAR-10 Batch 4:  Loss:     1.0832 Validation Accuracy: 0.580000\n",
      "Epoch  5, CIFAR-10 Batch 5:  Loss:     1.1417 Validation Accuracy: 0.584200\n",
      "Epoch  6, CIFAR-10 Batch 1:  Loss:     1.1980 Validation Accuracy: 0.585400\n",
      "Epoch  6, CIFAR-10 Batch 2:  Loss:     1.1330 Validation Accuracy: 0.586400\n",
      "Epoch  6, CIFAR-10 Batch 3:  Loss:     1.0786 Validation Accuracy: 0.596800\n",
      "Epoch  6, CIFAR-10 Batch 4:  Loss:     1.0427 Validation Accuracy: 0.595800\n",
      "Epoch  6, CIFAR-10 Batch 5:  Loss:     1.0965 Validation Accuracy: 0.599600\n",
      "Epoch  7, CIFAR-10 Batch 1:  Loss:     1.1740 Validation Accuracy: 0.593600\n",
      "Epoch  7, CIFAR-10 Batch 2:  Loss:     1.1102 Validation Accuracy: 0.592000\n",
      "Epoch  7, CIFAR-10 Batch 3:  Loss:     1.0976 Validation Accuracy: 0.587600\n",
      "Epoch  7, CIFAR-10 Batch 4:  Loss:     1.0128 Validation Accuracy: 0.599000\n",
      "Epoch  7, CIFAR-10 Batch 5:  Loss:     1.0632 Validation Accuracy: 0.599000\n",
      "Epoch  8, CIFAR-10 Batch 1:  Loss:     1.1434 Validation Accuracy: 0.602400\n",
      "Epoch  8, CIFAR-10 Batch 2:  Loss:     1.1024 Validation Accuracy: 0.605600\n",
      "Epoch  8, CIFAR-10 Batch 3:  Loss:     1.0585 Validation Accuracy: 0.595800\n",
      "Epoch  8, CIFAR-10 Batch 4:  Loss:     1.0055 Validation Accuracy: 0.604200\n",
      "Epoch  8, CIFAR-10 Batch 5:  Loss:     1.0432 Validation Accuracy: 0.609200\n",
      "Epoch  9, CIFAR-10 Batch 1:  Loss:     1.1399 Validation Accuracy: 0.609400\n",
      "Epoch  9, CIFAR-10 Batch 2:  Loss:     1.0899 Validation Accuracy: 0.593600\n",
      "Epoch  9, CIFAR-10 Batch 3:  Loss:     1.0343 Validation Accuracy: 0.599200\n",
      "Epoch  9, CIFAR-10 Batch 4:  Loss:     0.9794 Validation Accuracy: 0.610400\n",
      "Epoch  9, CIFAR-10 Batch 5:  Loss:     1.0383 Validation Accuracy: 0.616000\n",
      "Epoch 10, CIFAR-10 Batch 1:  Loss:     1.1153 Validation Accuracy: 0.601400\n",
      "Epoch 10, CIFAR-10 Batch 2:  Loss:     1.0590 Validation Accuracy: 0.601800\n",
      "Epoch 10, CIFAR-10 Batch 3:  Loss:     0.9938 Validation Accuracy: 0.606000\n",
      "Epoch 10, CIFAR-10 Batch 4:  Loss:     0.9681 Validation Accuracy: 0.621000\n",
      "Epoch 10, CIFAR-10 Batch 5:  Loss:     1.0079 Validation Accuracy: 0.617600\n",
      "Epoch 11, CIFAR-10 Batch 1:  Loss:     1.0919 Validation Accuracy: 0.606800\n",
      "Epoch 11, CIFAR-10 Batch 2:  Loss:     1.0907 Validation Accuracy: 0.596800\n",
      "Epoch 11, CIFAR-10 Batch 3:  Loss:     0.9792 Validation Accuracy: 0.617400\n",
      "Epoch 11, CIFAR-10 Batch 4:  Loss:     0.9492 Validation Accuracy: 0.625000\n",
      "Epoch 11, CIFAR-10 Batch 5:  Loss:     0.9983 Validation Accuracy: 0.625000\n",
      "Epoch 12, CIFAR-10 Batch 1:  Loss:     1.1030 Validation Accuracy: 0.605400\n",
      "Epoch 12, CIFAR-10 Batch 2:  Loss:     1.0440 Validation Accuracy: 0.609600\n",
      "Epoch 12, CIFAR-10 Batch 3:  Loss:     0.9491 Validation Accuracy: 0.622200\n",
      "Epoch 12, CIFAR-10 Batch 4:  Loss:     0.9588 Validation Accuracy: 0.630400\n",
      "Epoch 12, CIFAR-10 Batch 5:  Loss:     0.9696 Validation Accuracy: 0.620200\n",
      "Epoch 13, CIFAR-10 Batch 1:  Loss:     1.0757 Validation Accuracy: 0.620000\n",
      "Epoch 13, CIFAR-10 Batch 2:  Loss:     1.0312 Validation Accuracy: 0.612600\n",
      "Epoch 13, CIFAR-10 Batch 3:  Loss:     0.9197 Validation Accuracy: 0.632400\n",
      "Epoch 13, CIFAR-10 Batch 4:  Loss:     0.9280 Validation Accuracy: 0.627000\n",
      "Epoch 13, CIFAR-10 Batch 5:  Loss:     0.9515 Validation Accuracy: 0.628200\n",
      "Epoch 14, CIFAR-10 Batch 1:  Loss:     1.0387 Validation Accuracy: 0.628400\n",
      "Epoch 14, CIFAR-10 Batch 2:  Loss:     1.0154 Validation Accuracy: 0.627200\n",
      "Epoch 14, CIFAR-10 Batch 3:  Loss:     0.9173 Validation Accuracy: 0.614800\n",
      "Epoch 14, CIFAR-10 Batch 4:  Loss:     0.9069 Validation Accuracy: 0.635600\n",
      "Epoch 14, CIFAR-10 Batch 5:  Loss:     0.9447 Validation Accuracy: 0.630600\n",
      "Epoch 15, CIFAR-10 Batch 1:  Loss:     1.0167 Validation Accuracy: 0.634400\n",
      "Epoch 15, CIFAR-10 Batch 2:  Loss:     0.9959 Validation Accuracy: 0.627800\n",
      "Epoch 15, CIFAR-10 Batch 3:  Loss:     0.9033 Validation Accuracy: 0.635400\n",
      "Epoch 15, CIFAR-10 Batch 4:  Loss:     0.8971 Validation Accuracy: 0.632000\n",
      "Epoch 15, CIFAR-10 Batch 5:  Loss:     0.9370 Validation Accuracy: 0.633000\n",
      "Epoch 16, CIFAR-10 Batch 1:  Loss:     1.0181 Validation Accuracy: 0.622400\n",
      "Epoch 16, CIFAR-10 Batch 2:  Loss:     0.9753 Validation Accuracy: 0.630200\n",
      "Epoch 16, CIFAR-10 Batch 3:  Loss:     0.9043 Validation Accuracy: 0.633400\n",
      "Epoch 16, CIFAR-10 Batch 4:  Loss:     0.8994 Validation Accuracy: 0.641800\n",
      "Epoch 16, CIFAR-10 Batch 5:  Loss:     0.9192 Validation Accuracy: 0.634000\n",
      "Epoch 17, CIFAR-10 Batch 1:  Loss:     0.9995 Validation Accuracy: 0.636000\n",
      "Epoch 17, CIFAR-10 Batch 2:  Loss:     0.9813 Validation Accuracy: 0.633200\n",
      "Epoch 17, CIFAR-10 Batch 3:  Loss:     0.8965 Validation Accuracy: 0.624600\n",
      "Epoch 17, CIFAR-10 Batch 4:  Loss:     0.8816 Validation Accuracy: 0.638800\n",
      "Epoch 17, CIFAR-10 Batch 5:  Loss:     0.9207 Validation Accuracy: 0.636800\n",
      "Epoch 18, CIFAR-10 Batch 1:  Loss:     0.9919 Validation Accuracy: 0.635800\n",
      "Epoch 18, CIFAR-10 Batch 2:  Loss:     0.9657 Validation Accuracy: 0.638400\n",
      "Epoch 18, CIFAR-10 Batch 3:  Loss:     0.8840 Validation Accuracy: 0.632000\n",
      "Epoch 18, CIFAR-10 Batch 4:  Loss:     0.8913 Validation Accuracy: 0.645000\n",
      "Epoch 18, CIFAR-10 Batch 5:  Loss:     0.9169 Validation Accuracy: 0.648600\n",
      "Epoch 19, CIFAR-10 Batch 1:  Loss:     0.9563 Validation Accuracy: 0.641000\n",
      "Epoch 19, CIFAR-10 Batch 2:  Loss:     0.9773 Validation Accuracy: 0.629800\n",
      "Epoch 19, CIFAR-10 Batch 3:  Loss:     0.8646 Validation Accuracy: 0.636400\n",
      "Epoch 19, CIFAR-10 Batch 4:  Loss:     0.8659 Validation Accuracy: 0.645800\n",
      "Epoch 19, CIFAR-10 Batch 5:  Loss:     0.8817 Validation Accuracy: 0.643600\n",
      "Epoch 20, CIFAR-10 Batch 1:  Loss:     0.9710 Validation Accuracy: 0.640800\n",
      "Epoch 20, CIFAR-10 Batch 2:  Loss:     0.9476 Validation Accuracy: 0.640800\n",
      "Epoch 20, CIFAR-10 Batch 3:  Loss:     0.8399 Validation Accuracy: 0.644200\n",
      "Epoch 20, CIFAR-10 Batch 4:  Loss:     0.8452 Validation Accuracy: 0.647800\n",
      "Epoch 20, CIFAR-10 Batch 5:  Loss:     0.8918 Validation Accuracy: 0.651200\n",
      "Epoch 21, CIFAR-10 Batch 1:  Loss:     0.9530 Validation Accuracy: 0.642000\n",
      "Epoch 21, CIFAR-10 Batch 2:  Loss:     0.9398 Validation Accuracy: 0.643200\n",
      "Epoch 21, CIFAR-10 Batch 3:  Loss:     0.8506 Validation Accuracy: 0.642800\n",
      "Epoch 21, CIFAR-10 Batch 4:  Loss:     0.8488 Validation Accuracy: 0.650600\n",
      "Epoch 21, CIFAR-10 Batch 5:  Loss:     0.8651 Validation Accuracy: 0.647800\n",
      "Epoch 22, CIFAR-10 Batch 1:  Loss:     0.9558 Validation Accuracy: 0.646200\n",
      "Epoch 22, CIFAR-10 Batch 2:  Loss:     0.9263 Validation Accuracy: 0.650800\n",
      "Epoch 22, CIFAR-10 Batch 3:  Loss:     0.8357 Validation Accuracy: 0.643400\n"
     ]
    },
    {
     "name": "stdout",
     "output_type": "stream",
     "text": [
      "Epoch 22, CIFAR-10 Batch 4:  Loss:     0.8513 Validation Accuracy: 0.652600\n",
      "Epoch 22, CIFAR-10 Batch 5:  Loss:     0.8505 Validation Accuracy: 0.645400\n",
      "Epoch 23, CIFAR-10 Batch 1:  Loss:     0.9482 Validation Accuracy: 0.653000\n",
      "Epoch 23, CIFAR-10 Batch 2:  Loss:     0.9305 Validation Accuracy: 0.649000\n",
      "Epoch 23, CIFAR-10 Batch 3:  Loss:     0.8388 Validation Accuracy: 0.642800\n",
      "Epoch 23, CIFAR-10 Batch 4:  Loss:     0.8499 Validation Accuracy: 0.643400\n",
      "Epoch 23, CIFAR-10 Batch 5:  Loss:     0.8330 Validation Accuracy: 0.651400\n",
      "Epoch 24, CIFAR-10 Batch 1:  Loss:     0.9469 Validation Accuracy: 0.634000\n",
      "Epoch 24, CIFAR-10 Batch 2:  Loss:     0.9183 Validation Accuracy: 0.650800\n",
      "Epoch 24, CIFAR-10 Batch 3:  Loss:     0.8179 Validation Accuracy: 0.651200\n",
      "Epoch 24, CIFAR-10 Batch 4:  Loss:     0.8427 Validation Accuracy: 0.649600\n",
      "Epoch 24, CIFAR-10 Batch 5:  Loss:     0.8544 Validation Accuracy: 0.646800\n",
      "Epoch 25, CIFAR-10 Batch 1:  Loss:     0.9224 Validation Accuracy: 0.646400\n",
      "Epoch 25, CIFAR-10 Batch 2:  Loss:     0.9108 Validation Accuracy: 0.646200\n",
      "Epoch 25, CIFAR-10 Batch 3:  Loss:     0.8212 Validation Accuracy: 0.646200\n",
      "Epoch 25, CIFAR-10 Batch 4:  Loss:     0.8259 Validation Accuracy: 0.651200\n",
      "Epoch 25, CIFAR-10 Batch 5:  Loss:     0.8502 Validation Accuracy: 0.636800\n",
      "Epoch 26, CIFAR-10 Batch 1:  Loss:     0.9261 Validation Accuracy: 0.649000\n",
      "Epoch 26, CIFAR-10 Batch 2:  Loss:     0.9047 Validation Accuracy: 0.649400\n",
      "Epoch 26, CIFAR-10 Batch 3:  Loss:     0.8188 Validation Accuracy: 0.647200\n",
      "Epoch 26, CIFAR-10 Batch 4:  Loss:     0.8313 Validation Accuracy: 0.646600\n",
      "Epoch 26, CIFAR-10 Batch 5:  Loss:     0.8163 Validation Accuracy: 0.650400\n",
      "Epoch 27, CIFAR-10 Batch 1:  Loss:     0.9241 Validation Accuracy: 0.650000\n",
      "Epoch 27, CIFAR-10 Batch 2:  Loss:     0.8892 Validation Accuracy: 0.656200\n",
      "Epoch 27, CIFAR-10 Batch 3:  Loss:     0.8207 Validation Accuracy: 0.654400\n",
      "Epoch 27, CIFAR-10 Batch 4:  Loss:     0.8297 Validation Accuracy: 0.654600\n",
      "Epoch 27, CIFAR-10 Batch 5:  Loss:     0.8039 Validation Accuracy: 0.654400\n",
      "Epoch 28, CIFAR-10 Batch 1:  Loss:     0.9041 Validation Accuracy: 0.659400\n",
      "Epoch 28, CIFAR-10 Batch 2:  Loss:     0.8788 Validation Accuracy: 0.659200\n",
      "Epoch 28, CIFAR-10 Batch 3:  Loss:     0.7941 Validation Accuracy: 0.652600\n",
      "Epoch 28, CIFAR-10 Batch 4:  Loss:     0.8135 Validation Accuracy: 0.658800\n",
      "Epoch 28, CIFAR-10 Batch 5:  Loss:     0.8123 Validation Accuracy: 0.662600\n",
      "Epoch 29, CIFAR-10 Batch 1:  Loss:     0.9015 Validation Accuracy: 0.662800\n",
      "Epoch 29, CIFAR-10 Batch 2:  Loss:     0.8839 Validation Accuracy: 0.652800\n",
      "Epoch 29, CIFAR-10 Batch 3:  Loss:     0.8149 Validation Accuracy: 0.649600\n",
      "Epoch 29, CIFAR-10 Batch 4:  Loss:     0.8103 Validation Accuracy: 0.656200\n",
      "Epoch 29, CIFAR-10 Batch 5:  Loss:     0.7814 Validation Accuracy: 0.659200\n",
      "Epoch 30, CIFAR-10 Batch 1:  Loss:     0.8940 Validation Accuracy: 0.658600\n",
      "Epoch 30, CIFAR-10 Batch 2:  Loss:     0.8722 Validation Accuracy: 0.663200\n",
      "Epoch 30, CIFAR-10 Batch 3:  Loss:     0.8086 Validation Accuracy: 0.654200\n",
      "Epoch 30, CIFAR-10 Batch 4:  Loss:     0.8109 Validation Accuracy: 0.659400\n",
      "Epoch 30, CIFAR-10 Batch 5:  Loss:     0.7734 Validation Accuracy: 0.647600\n",
      "Epoch 31, CIFAR-10 Batch 1:  Loss:     0.8819 Validation Accuracy: 0.659600\n",
      "Epoch 31, CIFAR-10 Batch 2:  Loss:     0.8712 Validation Accuracy: 0.656800\n",
      "Epoch 31, CIFAR-10 Batch 3:  Loss:     0.7969 Validation Accuracy: 0.656200\n",
      "Epoch 31, CIFAR-10 Batch 4:  Loss:     0.8017 Validation Accuracy: 0.664600\n",
      "Epoch 31, CIFAR-10 Batch 5:  Loss:     0.7708 Validation Accuracy: 0.657600\n",
      "Epoch 32, CIFAR-10 Batch 1:  Loss:     0.8748 Validation Accuracy: 0.661600\n",
      "Epoch 32, CIFAR-10 Batch 2:  Loss:     0.9018 Validation Accuracy: 0.647600\n",
      "Epoch 32, CIFAR-10 Batch 3:  Loss:     0.8099 Validation Accuracy: 0.656600\n",
      "Epoch 32, CIFAR-10 Batch 4:  Loss:     0.7952 Validation Accuracy: 0.664200\n",
      "Epoch 32, CIFAR-10 Batch 5:  Loss:     0.7549 Validation Accuracy: 0.660000\n",
      "Epoch 33, CIFAR-10 Batch 1:  Loss:     0.8645 Validation Accuracy: 0.668200\n",
      "Epoch 33, CIFAR-10 Batch 2:  Loss:     0.8523 Validation Accuracy: 0.658600\n",
      "Epoch 33, CIFAR-10 Batch 3:  Loss:     0.7855 Validation Accuracy: 0.666000\n",
      "Epoch 33, CIFAR-10 Batch 4:  Loss:     0.7918 Validation Accuracy: 0.667800\n",
      "Epoch 33, CIFAR-10 Batch 5:  Loss:     0.7577 Validation Accuracy: 0.658800\n",
      "Epoch 34, CIFAR-10 Batch 1:  Loss:     0.8717 Validation Accuracy: 0.667800\n",
      "Epoch 34, CIFAR-10 Batch 2:  Loss:     0.8085 Validation Accuracy: 0.668000\n",
      "Epoch 34, CIFAR-10 Batch 3:  Loss:     0.7645 Validation Accuracy: 0.660200\n",
      "Epoch 34, CIFAR-10 Batch 4:  Loss:     0.7981 Validation Accuracy: 0.659800\n",
      "Epoch 34, CIFAR-10 Batch 5:  Loss:     0.7642 Validation Accuracy: 0.655800\n",
      "Epoch 35, CIFAR-10 Batch 1:  Loss:     0.8570 Validation Accuracy: 0.668200\n",
      "Epoch 35, CIFAR-10 Batch 2:  Loss:     0.8276 Validation Accuracy: 0.667800\n",
      "Epoch 35, CIFAR-10 Batch 3:  Loss:     0.7600 Validation Accuracy: 0.662800\n",
      "Epoch 35, CIFAR-10 Batch 4:  Loss:     0.7718 Validation Accuracy: 0.664000\n",
      "Epoch 35, CIFAR-10 Batch 5:  Loss:     0.7416 Validation Accuracy: 0.660400\n",
      "Epoch 36, CIFAR-10 Batch 1:  Loss:     0.8555 Validation Accuracy: 0.664800\n",
      "Epoch 36, CIFAR-10 Batch 2:  Loss:     0.8170 Validation Accuracy: 0.670400\n",
      "Epoch 36, CIFAR-10 Batch 3:  Loss:     0.7369 Validation Accuracy: 0.663800\n",
      "Epoch 36, CIFAR-10 Batch 4:  Loss:     0.7646 Validation Accuracy: 0.663800\n",
      "Epoch 36, CIFAR-10 Batch 5:  Loss:     0.7392 Validation Accuracy: 0.659600\n",
      "Epoch 37, CIFAR-10 Batch 1:  Loss:     0.8385 Validation Accuracy: 0.666200\n",
      "Epoch 37, CIFAR-10 Batch 2:  Loss:     0.8059 Validation Accuracy: 0.664600\n",
      "Epoch 37, CIFAR-10 Batch 3:  Loss:     0.7510 Validation Accuracy: 0.663400\n",
      "Epoch 37, CIFAR-10 Batch 4:  Loss:     0.7442 Validation Accuracy: 0.671600\n",
      "Epoch 37, CIFAR-10 Batch 5:  Loss:     0.7327 Validation Accuracy: 0.665800\n",
      "Epoch 38, CIFAR-10 Batch 1:  Loss:     0.8485 Validation Accuracy: 0.672000\n",
      "Epoch 38, CIFAR-10 Batch 2:  Loss:     0.8023 Validation Accuracy: 0.676600\n",
      "Epoch 38, CIFAR-10 Batch 3:  Loss:     0.7282 Validation Accuracy: 0.670800\n",
      "Epoch 38, CIFAR-10 Batch 4:  Loss:     0.7510 Validation Accuracy: 0.672400\n",
      "Epoch 38, CIFAR-10 Batch 5:  Loss:     0.7323 Validation Accuracy: 0.666400\n",
      "Epoch 39, CIFAR-10 Batch 1:  Loss:     0.8347 Validation Accuracy: 0.675400\n",
      "Epoch 39, CIFAR-10 Batch 2:  Loss:     0.7852 Validation Accuracy: 0.673600\n",
      "Epoch 39, CIFAR-10 Batch 3:  Loss:     0.7523 Validation Accuracy: 0.665600\n",
      "Epoch 39, CIFAR-10 Batch 4:  Loss:     0.7499 Validation Accuracy: 0.676600\n",
      "Epoch 39, CIFAR-10 Batch 5:  Loss:     0.7167 Validation Accuracy: 0.661200\n",
      "Epoch 40, CIFAR-10 Batch 1:  Loss:     0.8065 Validation Accuracy: 0.671200\n",
      "Epoch 40, CIFAR-10 Batch 2:  Loss:     0.7786 Validation Accuracy: 0.675400\n",
      "Epoch 40, CIFAR-10 Batch 3:  Loss:     0.7520 Validation Accuracy: 0.670200\n",
      "Epoch 40, CIFAR-10 Batch 4:  Loss:     0.7255 Validation Accuracy: 0.674000\n",
      "Epoch 40, CIFAR-10 Batch 5:  Loss:     0.7021 Validation Accuracy: 0.669800\n",
      "Epoch 41, CIFAR-10 Batch 1:  Loss:     0.8184 Validation Accuracy: 0.671600\n",
      "Epoch 41, CIFAR-10 Batch 2:  Loss:     0.7763 Validation Accuracy: 0.670400\n",
      "Epoch 41, CIFAR-10 Batch 3:  Loss:     0.7386 Validation Accuracy: 0.667800\n",
      "Epoch 41, CIFAR-10 Batch 4:  Loss:     0.7427 Validation Accuracy: 0.674000\n",
      "Epoch 41, CIFAR-10 Batch 5:  Loss:     0.6930 Validation Accuracy: 0.672400\n",
      "Epoch 42, CIFAR-10 Batch 1:  Loss:     0.8021 Validation Accuracy: 0.684400\n",
      "Epoch 42, CIFAR-10 Batch 2:  Loss:     0.7703 Validation Accuracy: 0.674200\n",
      "Epoch 42, CIFAR-10 Batch 3:  Loss:     0.7310 Validation Accuracy: 0.672200\n",
      "Epoch 42, CIFAR-10 Batch 4:  Loss:     0.7166 Validation Accuracy: 0.675000\n",
      "Epoch 42, CIFAR-10 Batch 5:  Loss:     0.7184 Validation Accuracy: 0.670200\n",
      "Epoch 43, CIFAR-10 Batch 1:  Loss:     0.8022 Validation Accuracy: 0.678000\n",
      "Epoch 43, CIFAR-10 Batch 2:  Loss:     0.7686 Validation Accuracy: 0.678800\n",
      "Epoch 43, CIFAR-10 Batch 3:  Loss:     0.7067 Validation Accuracy: 0.674800\n",
      "Epoch 43, CIFAR-10 Batch 4:  Loss:     0.7106 Validation Accuracy: 0.676400\n",
      "Epoch 43, CIFAR-10 Batch 5:  Loss:     0.7052 Validation Accuracy: 0.665800\n",
      "Epoch 44, CIFAR-10 Batch 1:  Loss:     0.7934 Validation Accuracy: 0.677400\n"
     ]
    },
    {
     "name": "stdout",
     "output_type": "stream",
     "text": [
      "Epoch 44, CIFAR-10 Batch 2:  Loss:     0.7440 Validation Accuracy: 0.676800\n",
      "Epoch 44, CIFAR-10 Batch 3:  Loss:     0.7318 Validation Accuracy: 0.671800\n",
      "Epoch 44, CIFAR-10 Batch 4:  Loss:     0.7084 Validation Accuracy: 0.678400\n",
      "Epoch 44, CIFAR-10 Batch 5:  Loss:     0.7024 Validation Accuracy: 0.671600\n",
      "Epoch 45, CIFAR-10 Batch 1:  Loss:     0.7948 Validation Accuracy: 0.681000\n",
      "Epoch 45, CIFAR-10 Batch 2:  Loss:     0.7548 Validation Accuracy: 0.680800\n",
      "Epoch 45, CIFAR-10 Batch 3:  Loss:     0.7052 Validation Accuracy: 0.676000\n",
      "Epoch 45, CIFAR-10 Batch 4:  Loss:     0.7095 Validation Accuracy: 0.681000\n",
      "Epoch 45, CIFAR-10 Batch 5:  Loss:     0.6786 Validation Accuracy: 0.678400\n",
      "Epoch 46, CIFAR-10 Batch 1:  Loss:     0.7817 Validation Accuracy: 0.679600\n",
      "Epoch 46, CIFAR-10 Batch 2:  Loss:     0.7363 Validation Accuracy: 0.679600\n",
      "Epoch 46, CIFAR-10 Batch 3:  Loss:     0.7294 Validation Accuracy: 0.668400\n",
      "Epoch 46, CIFAR-10 Batch 4:  Loss:     0.7020 Validation Accuracy: 0.680200\n",
      "Epoch 46, CIFAR-10 Batch 5:  Loss:     0.6822 Validation Accuracy: 0.678200\n",
      "Epoch 47, CIFAR-10 Batch 1:  Loss:     0.7649 Validation Accuracy: 0.683200\n",
      "Epoch 47, CIFAR-10 Batch 2:  Loss:     0.7429 Validation Accuracy: 0.678800\n",
      "Epoch 47, CIFAR-10 Batch 3:  Loss:     0.6999 Validation Accuracy: 0.676600\n",
      "Epoch 47, CIFAR-10 Batch 4:  Loss:     0.7045 Validation Accuracy: 0.680800\n",
      "Epoch 47, CIFAR-10 Batch 5:  Loss:     0.6643 Validation Accuracy: 0.674600\n",
      "Epoch 48, CIFAR-10 Batch 1:  Loss:     0.7733 Validation Accuracy: 0.678400\n",
      "Epoch 48, CIFAR-10 Batch 2:  Loss:     0.7286 Validation Accuracy: 0.669200\n",
      "Epoch 48, CIFAR-10 Batch 3:  Loss:     0.7221 Validation Accuracy: 0.669400\n",
      "Epoch 48, CIFAR-10 Batch 4:  Loss:     0.6996 Validation Accuracy: 0.675000\n",
      "Epoch 48, CIFAR-10 Batch 5:  Loss:     0.6685 Validation Accuracy: 0.683400\n",
      "Epoch 49, CIFAR-10 Batch 1:  Loss:     0.7897 Validation Accuracy: 0.678000\n",
      "Epoch 49, CIFAR-10 Batch 2:  Loss:     0.7427 Validation Accuracy: 0.680000\n",
      "Epoch 49, CIFAR-10 Batch 3:  Loss:     0.6888 Validation Accuracy: 0.669600\n",
      "Epoch 49, CIFAR-10 Batch 4:  Loss:     0.6952 Validation Accuracy: 0.675800\n",
      "Epoch 49, CIFAR-10 Batch 5:  Loss:     0.6572 Validation Accuracy: 0.674800\n",
      "Epoch 50, CIFAR-10 Batch 1:  Loss:     0.7529 Validation Accuracy: 0.687200\n",
      "Epoch 50, CIFAR-10 Batch 2:  Loss:     0.7518 Validation Accuracy: 0.671800\n",
      "Epoch 50, CIFAR-10 Batch 3:  Loss:     0.6896 Validation Accuracy: 0.682800\n",
      "Epoch 50, CIFAR-10 Batch 4:  Loss:     0.6853 Validation Accuracy: 0.687800\n",
      "Epoch 50, CIFAR-10 Batch 5:  Loss:     0.6499 Validation Accuracy: 0.680800\n",
      "Epoch 51, CIFAR-10 Batch 1:  Loss:     0.7772 Validation Accuracy: 0.683000\n",
      "Epoch 51, CIFAR-10 Batch 2:  Loss:     0.7292 Validation Accuracy: 0.683200\n",
      "Epoch 51, CIFAR-10 Batch 3:  Loss:     0.6903 Validation Accuracy: 0.673200\n",
      "Epoch 51, CIFAR-10 Batch 4:  Loss:     0.6855 Validation Accuracy: 0.682200\n",
      "Epoch 51, CIFAR-10 Batch 5:  Loss:     0.6539 Validation Accuracy: 0.680200\n",
      "Epoch 52, CIFAR-10 Batch 1:  Loss:     0.7708 Validation Accuracy: 0.680800\n",
      "Epoch 52, CIFAR-10 Batch 2:  Loss:     0.7304 Validation Accuracy: 0.675400\n",
      "Epoch 52, CIFAR-10 Batch 3:  Loss:     0.6984 Validation Accuracy: 0.677200\n",
      "Epoch 52, CIFAR-10 Batch 4:  Loss:     0.6659 Validation Accuracy: 0.683400\n",
      "Epoch 52, CIFAR-10 Batch 5:  Loss:     0.6427 Validation Accuracy: 0.681600\n",
      "Epoch 53, CIFAR-10 Batch 1:  Loss:     0.7594 Validation Accuracy: 0.681400\n",
      "Epoch 53, CIFAR-10 Batch 2:  Loss:     0.7289 Validation Accuracy: 0.673200\n",
      "Epoch 53, CIFAR-10 Batch 3:  Loss:     0.6810 Validation Accuracy: 0.677000\n",
      "Epoch 53, CIFAR-10 Batch 4:  Loss:     0.6830 Validation Accuracy: 0.675200\n",
      "Epoch 53, CIFAR-10 Batch 5:  Loss:     0.6371 Validation Accuracy: 0.670400\n",
      "Epoch 54, CIFAR-10 Batch 1:  Loss:     0.7435 Validation Accuracy: 0.683400\n",
      "Epoch 54, CIFAR-10 Batch 2:  Loss:     0.7113 Validation Accuracy: 0.680200\n",
      "Epoch 54, CIFAR-10 Batch 3:  Loss:     0.6768 Validation Accuracy: 0.684600\n",
      "Epoch 54, CIFAR-10 Batch 4:  Loss:     0.6784 Validation Accuracy: 0.679000\n",
      "Epoch 54, CIFAR-10 Batch 5:  Loss:     0.6506 Validation Accuracy: 0.676800\n",
      "Epoch 55, CIFAR-10 Batch 1:  Loss:     0.7618 Validation Accuracy: 0.685400\n",
      "Epoch 55, CIFAR-10 Batch 2:  Loss:     0.7110 Validation Accuracy: 0.682400\n",
      "Epoch 55, CIFAR-10 Batch 3:  Loss:     0.6785 Validation Accuracy: 0.684600\n",
      "Epoch 55, CIFAR-10 Batch 4:  Loss:     0.6844 Validation Accuracy: 0.681000\n",
      "Epoch 55, CIFAR-10 Batch 5:  Loss:     0.6426 Validation Accuracy: 0.687200\n",
      "Epoch 56, CIFAR-10 Batch 1:  Loss:     0.7589 Validation Accuracy: 0.684200\n",
      "Epoch 56, CIFAR-10 Batch 2:  Loss:     0.6920 Validation Accuracy: 0.675800\n",
      "Epoch 56, CIFAR-10 Batch 3:  Loss:     0.6591 Validation Accuracy: 0.686000\n",
      "Epoch 56, CIFAR-10 Batch 4:  Loss:     0.6540 Validation Accuracy: 0.686800\n",
      "Epoch 56, CIFAR-10 Batch 5:  Loss:     0.6225 Validation Accuracy: 0.688200\n",
      "Epoch 57, CIFAR-10 Batch 1:  Loss:     0.7379 Validation Accuracy: 0.691600\n",
      "Epoch 57, CIFAR-10 Batch 2:  Loss:     0.7107 Validation Accuracy: 0.685200\n",
      "Epoch 57, CIFAR-10 Batch 3:  Loss:     0.6652 Validation Accuracy: 0.680400\n",
      "Epoch 57, CIFAR-10 Batch 4:  Loss:     0.6458 Validation Accuracy: 0.688200\n",
      "Epoch 57, CIFAR-10 Batch 5:  Loss:     0.6394 Validation Accuracy: 0.681400\n",
      "Epoch 58, CIFAR-10 Batch 1:  Loss:     0.7535 Validation Accuracy: 0.680800\n",
      "Epoch 58, CIFAR-10 Batch 2:  Loss:     0.6880 Validation Accuracy: 0.686200\n",
      "Epoch 58, CIFAR-10 Batch 3:  Loss:     0.6434 Validation Accuracy: 0.683000\n",
      "Epoch 58, CIFAR-10 Batch 4:  Loss:     0.6534 Validation Accuracy: 0.684400\n",
      "Epoch 58, CIFAR-10 Batch 5:  Loss:     0.6283 Validation Accuracy: 0.685200\n",
      "Epoch 59, CIFAR-10 Batch 1:  Loss:     0.7236 Validation Accuracy: 0.685200\n",
      "Epoch 59, CIFAR-10 Batch 2:  Loss:     0.6888 Validation Accuracy: 0.683400\n",
      "Epoch 59, CIFAR-10 Batch 3:  Loss:     0.6680 Validation Accuracy: 0.684400\n",
      "Epoch 59, CIFAR-10 Batch 4:  Loss:     0.6598 Validation Accuracy: 0.676800\n",
      "Epoch 59, CIFAR-10 Batch 5:  Loss:     0.6204 Validation Accuracy: 0.681200\n",
      "Epoch 60, CIFAR-10 Batch 1:  Loss:     0.7283 Validation Accuracy: 0.686800\n",
      "Epoch 60, CIFAR-10 Batch 2:  Loss:     0.6999 Validation Accuracy: 0.687800\n",
      "Epoch 60, CIFAR-10 Batch 3:  Loss:     0.6686 Validation Accuracy: 0.677200\n",
      "Epoch 60, CIFAR-10 Batch 4:  Loss:     0.6523 Validation Accuracy: 0.689800\n",
      "Epoch 60, CIFAR-10 Batch 5:  Loss:     0.6076 Validation Accuracy: 0.682000\n"
     ]
    }
   ],
   "source": [
    "\"\"\"\n",
    "DON'T MODIFY ANYTHING IN THIS CELL\n",
    "\"\"\"\n",
    "save_model_path = './image_classification'\n",
    "\n",
    "print('Training...')\n",
    "with tf.Session() as sess:\n",
    "    # Initializing the variables\n",
    "    sess.run(tf.global_variables_initializer())\n",
    "    \n",
    "    # Training cycle\n",
    "    for epoch in range(epochs):\n",
    "        # Loop over all batches\n",
    "        n_batches = 5\n",
    "        for batch_i in range(1, n_batches + 1):\n",
    "            for batch_features, batch_labels in helper.load_preprocess_training_batch(batch_i, batch_size):\n",
    "                train_neural_network(sess, optimizer, keep_probability, batch_features, batch_labels)\n",
    "            print('Epoch {:>2}, CIFAR-10 Batch {}:  '.format(epoch + 1, batch_i), end='')\n",
    "            print_stats(sess, batch_features, batch_labels, cost, accuracy)\n",
    "            \n",
    "    # Save Model\n",
    "    saver = tf.train.Saver()\n",
    "    save_path = saver.save(sess, save_model_path)"
   ]
  },
  {
   "cell_type": "markdown",
   "metadata": {},
   "source": [
    "# Checkpoint\n",
    "The model has been saved to disk.\n",
    "## Test Model\n",
    "Test your model against the test dataset.  This will be your final accuracy. You should have an accuracy greater than 50%. If you don't, keep tweaking the model architecture and parameters."
   ]
  },
  {
   "cell_type": "code",
   "execution_count": 13,
   "metadata": {},
   "outputs": [
    {
     "name": "stdout",
     "output_type": "stream",
     "text": [
      "INFO:tensorflow:Restoring parameters from ./image_classification\n",
      "Testing Accuracy: 0.6782686114311218\n",
      "\n"
     ]
    },
    {
     "data": {
      "image/png": "[encoded data removed]",
      "text/plain": [
       "<matplotlib.figure.Figure at 0x7fd082144d68>"
      ]
     },
     "metadata": {
      "image/png": {
       "height": 319,
       "width": 355
      }
     },
     "output_type": "display_data"
    }
   ],
   "source": [
    "\"\"\"\n",
    "DON'T MODIFY ANYTHING IN THIS CELL\n",
    "\"\"\"\n",
    "%matplotlib inline\n",
    "%config InlineBackend.figure_format = 'retina'\n",
    "\n",
    "import tensorflow as tf\n",
    "import pickle\n",
    "import helper\n",
    "import random\n",
    "\n",
    "# Set batch size if not already set\n",
    "try:\n",
    "    if batch_size:\n",
    "        pass\n",
    "except NameError:\n",
    "    batch_size = 64\n",
    "\n",
    "save_model_path = './image_classification'\n",
    "n_samples = 4\n",
    "top_n_predictions = 3\n",
    "\n",
    "def test_model():\n",
    "    \"\"\"\n",
    "    Test the saved model against the test dataset\n",
    "    \"\"\"\n",
    "\n",
    "    test_features, test_labels = pickle.load(open('preprocess_test.p', mode='rb'))\n",
    "    loaded_graph = tf.Graph()\n",
    "\n",
    "    with tf.Session(graph=loaded_graph) as sess:\n",
    "        # Load model\n",
    "        loader = tf.train.import_meta_graph(save_model_path + '.meta')\n",
    "        loader.restore(sess, save_model_path)\n",
    "\n",
    "        # Get Tensors from loaded model\n",
    "        loaded_x = loaded_graph.get_tensor_by_name('x:0')\n",
    "        loaded_y = loaded_graph.get_tensor_by_name('y:0')\n",
    "        loaded_keep_prob = loaded_graph.get_tensor_by_name('keep_prob:0')\n",
    "        loaded_logits = loaded_graph.get_tensor_by_name('logits:0')\n",
    "        loaded_acc = loaded_graph.get_tensor_by_name('accuracy:0')\n",
    "        \n",
    "        # Get accuracy in batches for memory limitations\n",
    "        test_batch_acc_total = 0\n",
    "        test_batch_count = 0\n",
    "        \n",
    "        for test_feature_batch, test_label_batch in helper.batch_features_labels(test_features, test_labels, batch_size):\n",
    "            test_batch_acc_total += sess.run(\n",
    "                loaded_acc,\n",
    "                feed_dict={loaded_x: test_feature_batch, loaded_y: test_label_batch, loaded_keep_prob: 1.0})\n",
    "            test_batch_count += 1\n",
    "\n",
    "        print('Testing Accuracy: {}\\n'.format(test_batch_acc_total/test_batch_count))\n",
    "\n",
    "        # Print Random Samples\n",
    "        random_test_features, random_test_labels = tuple(zip(*random.sample(list(zip(test_features, test_labels)), n_samples)))\n",
    "        random_test_predictions = sess.run(\n",
    "            tf.nn.top_k(tf.nn.softmax(loaded_logits), top_n_predictions),\n",
    "            feed_dict={loaded_x: random_test_features, loaded_y: random_test_labels, loaded_keep_prob: 1.0})\n",
    "        helper.display_image_predictions(random_test_features, random_test_labels, random_test_predictions)\n",
    "\n",
    "\n",
    "test_model()"
   ]
  },
  {
   "cell_type": "markdown",
   "metadata": {},
   "source": [
    "## Why 50-80% Accuracy?\n",
    "You might be wondering why you can't get an accuracy any higher. First things first, 50% isn't bad for a simple CNN.  Pure guessing would get you 10% accuracy. However, you might notice people are getting scores [well above 80%](http://rodrigob.github.io/are_we_there_yet/build/classification_datasets_results.html#43494641522d3130).  That's because we haven't taught you all there is to know about neural networks. We still need to cover a few more techniques.\n",
    "## Submitting This Project\n",
    "When submitting this project, make sure to run all the cells before saving the notebook.  Save the notebook file as \"dlnd_image_classification.ipynb\" and save it as a HTML file under \"File\" -> \"Download as\".  Include the \"helper.py\" and \"problem_unittests.py\" files in your submission."
   ]
  },
  {
   "cell_type": "code",
   "execution_count": null,
   "metadata": {
    "collapsed": true
   },
   "outputs": [],
   "source": []
  }
 ],
 "metadata": {
  "anaconda-cloud": {},
  "kernelspec": {
   "display_name": "Python [default]",
   "language": "python",
   "name": "python3"
  },
  "language_info": {
   "codemirror_mode": {
    "name": "ipython",
    "version": 3
   },
   "file_extension": ".py",
   "mimetype": "text/x-python",
   "name": "python",
   "nbconvert_exporter": "python",
   "pygments_lexer": "ipython3",
   "version": "3.5.2"
  }
 },
 "nbformat": 4,
 "nbformat_minor": 1
}
